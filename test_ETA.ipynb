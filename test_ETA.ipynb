{
 "cells": [
  {
   "cell_type": "code",
   "execution_count": 1,
   "id": "7a71b2e4-43c2-4293-a27d-96bbc7cd481a",
   "metadata": {},
   "outputs": [],
   "source": [
    "from ETA.eta import elite_translate_agents"
   ]
  },
  {
   "cell_type": "code",
   "execution_count": 2,
   "id": "598d69ff-e431-437b-ade5-5f0ca7d5e3e2",
   "metadata": {},
   "outputs": [],
   "source": [
    "eta = elite_translate_agents('phenaki.pdf', is_gpu = True, page_idx = [1, 2])"
   ]
  },
  {
   "cell_type": "code",
   "execution_count": 3,
   "id": "641e06dc-7c1c-457a-be69-9327b2d41ee3",
   "metadata": {},
   "outputs": [
    {
     "name": "stdout",
     "output_type": "stream",
     "text": [
      "페나키: 오픈 도메인 텍스트 설명에서 가변 길이 비디오 생성 루벤 빌레가스트 모하마드 바베이자데트 피에터-얀 킨더맨스트 구글 브레인 구글 브레인 구글 브레인 rubville@google com mombz@google com pikinder@google _com Hernan Moraldo Han Mohammad Taghi Safar 구글 브레인 구글 브레인 hmoraldol 구글 브레인 hmoraldol 구글. com zhanghan@google. comsaf far@google.com Santiago Castro Julius Kunze * Dumitru Erhan University of Michigan University College London Google Brain sacastrolumich edu kjulius@google_com dumitrul google.com LO 추상 일련의 텍스트 프롬프트가 주어지면 사실적인 영상 합성이 가능한 모델인 페나키를 제시합니다.계산 비용, 고품질 텍스트-비디오 데이터의 제한된 양, 가변 길이의 비디오로 인해 텍스트로부터 비디오를 생성하는 것은 특히 어렵다. 이러한 문제를 해결하기 위해 비디오를 이산 토큰의 작은 표현으로 압축하는 비디오 표현 학습을 위한 새로운 모델을 소개한다. 이 토큰화기는 시간의 인과적 주의를 사용하여 가변 길이 비디오와 t0 작업할 수 있다.텍스트로부터 비디오 토큰을 생성하기 위해 우리는 미리 계산된 텍스트 토큰들에 조건을 맞춘 양방향 마스킹 변환기를 사용하고 있다_ 생성된 비디오 토큰들은 실제 비디오를 생성하기 위해 이어서 디토큰화된다_ 데이터 문제들을 해결하기 위해, 우리는 이미지 텍스트 코퍼스와 더 적은 수의 비디오 텍스트 예제에 대한 공동 훈련이 어떻게 비디오 데이터 세트에서 사용할 수 있는 것 이상의 일반화를 가져올 수 있는지 보여준다.이전의 비디오 생성 방법과 비교하여, 페나키는 프롬프트의 시퀀스(즉, 프롬프트)에 따라 임의의 긴 비디오를 생성할 수 있다.시간 변수 텍스트 O a story) 오픈 도메인에서 시간 변수 프롬프트로부터 비디오를 생성하는 것을 연구하는 논문은 이번이 처음이다. 또한 프레임별 기준선에 비해 제안된 비디오 인코더-디코더는 비디오당 토큰을 더 적게 계산하지만 시공간 일관성을 더 향상시킨다.소개 이제 설명이 주어지면 사실적인 고해상도 영상을 생성할 수 있습니다.] 하지만 고품질 비디오 텍스트를 생성하는 것은 여전히 어렵습니다: 본질적으로, 비디오는 단지 이미지의 시퀀스일 뿐이지만, 이것이 일관성 있는 비디오를 생성하는 것이 쉽다는 것을 의미하는 것은 아니다. 실제로, 이용 가능한 고품질 데이터가 훨씬 적고 계산 요구 사항이 훨씬 더 심각하기 때문에 상당히 더 어려운 작업이다 [9L 이미지 생성의 경우, 텍스트-비디오 데이터 세트가 상당히 작은 반면, 수십억 개의 이미지-텍스트 쌍(LAION-SB 및 JFT4B 등)을 가진 데이터 세트가 있다.g_ Web Vid [~IOM 비디오가 있는 4개로, 오픈 도메인 비디오의 더 높은 복잡성을 고려할 때 충분하지 않다_ 계산의 경우, 현재 최첨단 이미지 생성 모델을 훈련하는 것은 이미 최첨단 계산 능력을 밀어 동영상, 특히 가변 길이의 비디오를 생성할 공간을 거의 내지 않고 있다.\n",
      "프롬프트: 사진과 같은 사실적인 테디베어가 샌프란시스코에서 두 번째 프롬프트로 바다에서 헤엄치고 있습니다: 곰인형이 물 속으로 들어간다\" 세 번째 프롬프트: \"곰인형이 알록달록한 물고기들과 함께 물 속에서 계속 헤엄친다\" 프롬프트: \"팬더 곰이 물 속에서 헤엄치고 있다\" 그림 1. 시간 변수 텍스트(즉, 스토리) 조건부 비디오 생성. 전체 수치는 자동 회귀적으로 생성되는 하나의 연속적인 비디오이다.우리는 첫번째 프롬프트에서 조건화된 비디오를 생성하는 것으로 시작하고 몇 프레임 후에 다음 프롬프트로 바꿉니다.각 행에는 선택된 수의 프레임(순서대로 왼쪽에서 오른쪽으로)이 포함되어 있으며 모델은 해당 프롬프트에 따라 조건이 설정되어 있습니다: 모델은 새로운 프롬프트에 적응하는 동안 비디오의 시간적 일관성을 유지하며, 일반적으로 적응을 위해 가장 짧은 시간(팬더에 대한 테디 베어의 변형에 주목)을 관리한다. 생성된 비디오는 반사, 폐색, 상호 작용 및 장면 전환과 같은 복잡한 시각적 특징을 가지고 있음에 유의한다.전체 비디오는 페나키 githubio 비디오 생성 모델에서 임의 길이의 비디오를 생성할 수 있어야 한다.이러한 기능은 동영상을 \"움직이는 이미지\"와 분명히 구분할 수 있으며 예술, 디자인 및 컨텐츠 제작에 있어 실제 창의적인 응용 프로그램으로 가는 길을 열어줄 수 있습니다. 우리가 아는 한, 스토리 기반 조건부 비디오 생성은 이전에 한 번도 탐구된 적이 없으며 이 목표를 향해 초기 단계를 밟은 첫 번째 논문입니다.학습할 스토리 기반 데이터 세트가 없기 때문에 단순히 이 작업 데이터를 학습하는 전통적인 학습 접근 방식은 불가능하다. 대신 이를 달성하기 위해 이 기능을 염두에 두고 특별히 설계된 모델에 의존한다.본 논문에서는 텍스트 대 비디오 및 텍스트 대 이미지 데이터 모두에 대해 훈련된 텍스트 t0 비디오 모델인 페나키를 소개한다. 프롬프트가 새로운 개념 구성인 경우에도 오픈 도메인 프롬프트에 따라 시간적으로 일관성 있고 다양한 비디오를 생성한다(그림 B: 모델이 8fps(fps)로 1.4초 분량의 비디오를 훈련하더라도 비디오는 (분 단위)가 될 수 있다. 0n 스토리(즉, 프롬프트 시퀀스)로 조건화된 비디오를 생성합니다.\n"
     ]
    }
   ],
   "source": [
    "print(eta.translate())"
   ]
  },
  {
   "cell_type": "code",
   "execution_count": null,
   "id": "9492105c-6a32-492a-8480-421486871f2a",
   "metadata": {},
   "outputs": [],
   "source": []
  },
  {
   "cell_type": "code",
   "execution_count": null,
   "id": "aeab3db8-50f0-4b5a-a8b2-14bab270ac64",
   "metadata": {},
   "outputs": [],
   "source": []
  }
 ],
 "metadata": {
  "kernelspec": {
   "display_name": "MISC",
   "language": "python",
   "name": "misc"
  },
  "language_info": {
   "codemirror_mode": {
    "name": "ipython",
    "version": 3
   },
   "file_extension": ".py",
   "mimetype": "text/x-python",
   "name": "python",
   "nbconvert_exporter": "python",
   "pygments_lexer": "ipython3",
   "version": "3.10.13"
  }
 },
 "nbformat": 4,
 "nbformat_minor": 5
}
